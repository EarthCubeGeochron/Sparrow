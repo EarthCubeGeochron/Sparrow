{
 "cells": [
  {
   "cell_type": "markdown",
   "metadata": {},
   "source": [
    "## Exporting Data\n",
    "\n",
    "In the proccess of analyzing your data, you may want to create a specific excel sheet for only samples that you still need to find metadata for. We can get a list of samples that still need metadata the same way we found what samples to upload. But that is just a list of names then. How do we recreate the dataframe with every column for that sample?\n",
    "\n",
    "First I'll make a list of samples missing metadata still."
   ]
  },
  {
   "cell_type": "code",
   "execution_count": 9,
   "metadata": {},
   "outputs": [],
   "source": [
    "import pandas as pd\n",
    "from pandas import isnull\n",
    "import numpy as np\n",
    "import json\n",
    "%store -r dfOnline\n",
    "%store -r dfm\n",
    "%store -r df1\n",
    "%store -r Uploadable_total"
   ]
  },
  {
   "cell_type": "code",
   "execution_count": null,
   "metadata": {},
   "outputs": [],
   "source": [
    "Missing = []\n",
    "dfOnline.Names = dfOnline.Names.astype('str')\n",
    "for i, series in dfOnline.iterrows():\n",
    "    if (isnull(series.Longitude)) is True:\n",
    "        Missing.append(series.Names)"
   ]
  },
  {
   "cell_type": "markdown",
   "metadata": {},
   "source": [
    "Now we will create a list of rows from `df1` that corresponds to the name of the sample in the list `Missing`. "
   ]
  },
  {
   "cell_type": "code",
   "execution_count": 3,
   "metadata": {},
   "outputs": [],
   "source": [
    "indexs = []\n",
    "\n",
    "dfm.sample_name = dfm.sample_name.astype('str')\n",
    "for i, series in dfm.iterrows():\n",
    "    for ele in Missing:\n",
    "        if series.sample_name == ele:\n",
    "            indexs.append(series)\n",
    "indexs = pd.DataFrame(indexs)"
   ]
  },
  {
   "cell_type": "markdown",
   "metadata": {},
   "source": [
    "Now that we have a dataframe of all the missing samples, we can export it to an excel file where we can easily see the data and add information as we find the samples. \n",
    "\n",
    "The code below is how to export and save a pandas dataframe as an excell sheet. Make sure to have `xlsxwriter` downloaded first. Pandas uses it as the engine to convert the dataframe. "
   ]
  },
  {
   "cell_type": "markdown",
   "metadata": {},
   "source": [
    "`writer = pd.ExcelWriter('MissingMetadata.xlsx', engine='xlsxwriter')\n",
    "indexs.to_excel(writer, sheet_name='MissingMetadata')\n",
    "writer.save()`"
   ]
  }
 ],
 "metadata": {
  "kernelspec": {
   "display_name": "Python 3",
   "language": "python",
   "name": "python3"
  },
  "language_info": {
   "codemirror_mode": {
    "name": "ipython",
    "version": 3
   },
   "file_extension": ".py",
   "mimetype": "text/x-python",
   "name": "python",
   "nbconvert_exporter": "python",
   "pygments_lexer": "ipython3",
   "version": "3.7.6-final"
  }
 },
 "nbformat": 4,
 "nbformat_minor": 4
}